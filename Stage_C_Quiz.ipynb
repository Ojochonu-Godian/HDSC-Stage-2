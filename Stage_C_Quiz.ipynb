{
 "cells": [
  {
   "cell_type": "code",
   "execution_count": 1,
   "id": "a9623d47",
   "metadata": {},
   "outputs": [],
   "source": [
    "import pandas as pd"
   ]
  },
  {
   "cell_type": "code",
   "execution_count": 2,
   "id": "090114de",
   "metadata": {},
   "outputs": [],
   "source": [
    "df = pd.read_csv('Data_for_UCI_named.csv')"
   ]
  },
  {
   "cell_type": "code",
   "execution_count": 3,
   "id": "a4103a79",
   "metadata": {},
   "outputs": [
    {
     "data": {
      "text/html": [
       "<div>\n",
       "<style scoped>\n",
       "    .dataframe tbody tr th:only-of-type {\n",
       "        vertical-align: middle;\n",
       "    }\n",
       "\n",
       "    .dataframe tbody tr th {\n",
       "        vertical-align: top;\n",
       "    }\n",
       "\n",
       "    .dataframe thead th {\n",
       "        text-align: right;\n",
       "    }\n",
       "</style>\n",
       "<table border=\"1\" class=\"dataframe\">\n",
       "  <thead>\n",
       "    <tr style=\"text-align: right;\">\n",
       "      <th></th>\n",
       "      <th>tau1</th>\n",
       "      <th>tau2</th>\n",
       "      <th>tau3</th>\n",
       "      <th>tau4</th>\n",
       "      <th>p1</th>\n",
       "      <th>p2</th>\n",
       "      <th>p3</th>\n",
       "      <th>p4</th>\n",
       "      <th>g1</th>\n",
       "      <th>g2</th>\n",
       "      <th>g3</th>\n",
       "      <th>g4</th>\n",
       "      <th>stab</th>\n",
       "      <th>stabf</th>\n",
       "    </tr>\n",
       "  </thead>\n",
       "  <tbody>\n",
       "    <tr>\n",
       "      <th>0</th>\n",
       "      <td>2.959060</td>\n",
       "      <td>3.079885</td>\n",
       "      <td>8.381025</td>\n",
       "      <td>9.780754</td>\n",
       "      <td>3.763085</td>\n",
       "      <td>-0.782604</td>\n",
       "      <td>-1.257395</td>\n",
       "      <td>-1.723086</td>\n",
       "      <td>0.650456</td>\n",
       "      <td>0.859578</td>\n",
       "      <td>0.887445</td>\n",
       "      <td>0.958034</td>\n",
       "      <td>0.055347</td>\n",
       "      <td>unstable</td>\n",
       "    </tr>\n",
       "    <tr>\n",
       "      <th>1</th>\n",
       "      <td>9.304097</td>\n",
       "      <td>4.902524</td>\n",
       "      <td>3.047541</td>\n",
       "      <td>1.369357</td>\n",
       "      <td>5.067812</td>\n",
       "      <td>-1.940058</td>\n",
       "      <td>-1.872742</td>\n",
       "      <td>-1.255012</td>\n",
       "      <td>0.413441</td>\n",
       "      <td>0.862414</td>\n",
       "      <td>0.562139</td>\n",
       "      <td>0.781760</td>\n",
       "      <td>-0.005957</td>\n",
       "      <td>stable</td>\n",
       "    </tr>\n",
       "    <tr>\n",
       "      <th>2</th>\n",
       "      <td>8.971707</td>\n",
       "      <td>8.848428</td>\n",
       "      <td>3.046479</td>\n",
       "      <td>1.214518</td>\n",
       "      <td>3.405158</td>\n",
       "      <td>-1.207456</td>\n",
       "      <td>-1.277210</td>\n",
       "      <td>-0.920492</td>\n",
       "      <td>0.163041</td>\n",
       "      <td>0.766689</td>\n",
       "      <td>0.839444</td>\n",
       "      <td>0.109853</td>\n",
       "      <td>0.003471</td>\n",
       "      <td>unstable</td>\n",
       "    </tr>\n",
       "    <tr>\n",
       "      <th>3</th>\n",
       "      <td>0.716415</td>\n",
       "      <td>7.669600</td>\n",
       "      <td>4.486641</td>\n",
       "      <td>2.340563</td>\n",
       "      <td>3.963791</td>\n",
       "      <td>-1.027473</td>\n",
       "      <td>-1.938944</td>\n",
       "      <td>-0.997374</td>\n",
       "      <td>0.446209</td>\n",
       "      <td>0.976744</td>\n",
       "      <td>0.929381</td>\n",
       "      <td>0.362718</td>\n",
       "      <td>0.028871</td>\n",
       "      <td>unstable</td>\n",
       "    </tr>\n",
       "    <tr>\n",
       "      <th>4</th>\n",
       "      <td>3.134112</td>\n",
       "      <td>7.608772</td>\n",
       "      <td>4.943759</td>\n",
       "      <td>9.857573</td>\n",
       "      <td>3.525811</td>\n",
       "      <td>-1.125531</td>\n",
       "      <td>-1.845975</td>\n",
       "      <td>-0.554305</td>\n",
       "      <td>0.797110</td>\n",
       "      <td>0.455450</td>\n",
       "      <td>0.656947</td>\n",
       "      <td>0.820923</td>\n",
       "      <td>0.049860</td>\n",
       "      <td>unstable</td>\n",
       "    </tr>\n",
       "  </tbody>\n",
       "</table>\n",
       "</div>"
      ],
      "text/plain": [
       "       tau1      tau2      tau3      tau4        p1        p2        p3  \\\n",
       "0  2.959060  3.079885  8.381025  9.780754  3.763085 -0.782604 -1.257395   \n",
       "1  9.304097  4.902524  3.047541  1.369357  5.067812 -1.940058 -1.872742   \n",
       "2  8.971707  8.848428  3.046479  1.214518  3.405158 -1.207456 -1.277210   \n",
       "3  0.716415  7.669600  4.486641  2.340563  3.963791 -1.027473 -1.938944   \n",
       "4  3.134112  7.608772  4.943759  9.857573  3.525811 -1.125531 -1.845975   \n",
       "\n",
       "         p4        g1        g2        g3        g4      stab     stabf  \n",
       "0 -1.723086  0.650456  0.859578  0.887445  0.958034  0.055347  unstable  \n",
       "1 -1.255012  0.413441  0.862414  0.562139  0.781760 -0.005957    stable  \n",
       "2 -0.920492  0.163041  0.766689  0.839444  0.109853  0.003471  unstable  \n",
       "3 -0.997374  0.446209  0.976744  0.929381  0.362718  0.028871  unstable  \n",
       "4 -0.554305  0.797110  0.455450  0.656947  0.820923  0.049860  unstable  "
      ]
     },
     "execution_count": 3,
     "metadata": {},
     "output_type": "execute_result"
    }
   ],
   "source": [
    "df.head()"
   ]
  },
  {
   "cell_type": "code",
   "execution_count": 4,
   "id": "e8719201",
   "metadata": {},
   "outputs": [],
   "source": [
    "df = df.drop(columns = 'stab', axis = 1)"
   ]
  },
  {
   "cell_type": "code",
   "execution_count": 5,
   "id": "e7750396",
   "metadata": {},
   "outputs": [
    {
     "data": {
      "text/plain": [
       "tau1     0\n",
       "tau2     0\n",
       "tau3     0\n",
       "tau4     0\n",
       "p1       0\n",
       "p2       0\n",
       "p3       0\n",
       "p4       0\n",
       "g1       0\n",
       "g2       0\n",
       "g3       0\n",
       "g4       0\n",
       "stabf    0\n",
       "dtype: int64"
      ]
     },
     "execution_count": 5,
     "metadata": {},
     "output_type": "execute_result"
    }
   ],
   "source": [
    "df.isnull().sum()  "
   ]
  },
  {
   "cell_type": "code",
   "execution_count": 6,
   "id": "a67e55b6",
   "metadata": {},
   "outputs": [
    {
     "data": {
      "text/plain": [
       "unstable    6380\n",
       "stable      3620\n",
       "Name: stabf, dtype: int64"
      ]
     },
     "execution_count": 6,
     "metadata": {},
     "output_type": "execute_result"
    }
   ],
   "source": [
    "df['stabf'].value_counts()"
   ]
  },
  {
   "cell_type": "code",
   "execution_count": 7,
   "id": "db5c2428",
   "metadata": {},
   "outputs": [],
   "source": [
    "df_stable = df[df.stabf=='stable']\n",
    "df_unstable = df[df.stabf=='unstable'].sample(4000)"
   ]
  },
  {
   "cell_type": "code",
   "execution_count": 8,
   "id": "8068b7f9",
   "metadata": {},
   "outputs": [
    {
     "name": "stderr",
     "output_type": "stream",
     "text": [
      "C:\\Users\\GODIAN\\AppData\\Local\\Temp\\ipykernel_6304\\1521413435.py:1: FutureWarning: The frame.append method is deprecated and will be removed from pandas in a future version. Use pandas.concat instead.\n",
      "  new_df = df_stable.append(df_unstable)\n"
     ]
    }
   ],
   "source": [
    "new_df = df_stable.append(df_unstable)"
   ]
  },
  {
   "cell_type": "code",
   "execution_count": 9,
   "id": "b7d5ee60",
   "metadata": {},
   "outputs": [
    {
     "data": {
      "text/plain": [
       "(7620, 13)"
      ]
     },
     "execution_count": 9,
     "metadata": {},
     "output_type": "execute_result"
    }
   ],
   "source": [
    "new_df.shape"
   ]
  },
  {
   "cell_type": "code",
   "execution_count": 10,
   "id": "b3cfc687",
   "metadata": {},
   "outputs": [
    {
     "data": {
      "text/plain": [
       "unstable    4000\n",
       "stable      3620\n",
       "Name: stabf, dtype: int64"
      ]
     },
     "execution_count": 10,
     "metadata": {},
     "output_type": "execute_result"
    }
   ],
   "source": [
    "new_df['stabf'].value_counts()"
   ]
  },
  {
   "cell_type": "code",
   "execution_count": 11,
   "id": "31fd2b61",
   "metadata": {},
   "outputs": [
    {
     "data": {
      "text/html": [
       "<div>\n",
       "<style scoped>\n",
       "    .dataframe tbody tr th:only-of-type {\n",
       "        vertical-align: middle;\n",
       "    }\n",
       "\n",
       "    .dataframe tbody tr th {\n",
       "        vertical-align: top;\n",
       "    }\n",
       "\n",
       "    .dataframe thead th {\n",
       "        text-align: right;\n",
       "    }\n",
       "</style>\n",
       "<table border=\"1\" class=\"dataframe\">\n",
       "  <thead>\n",
       "    <tr style=\"text-align: right;\">\n",
       "      <th></th>\n",
       "      <th>tau1</th>\n",
       "      <th>tau2</th>\n",
       "      <th>tau3</th>\n",
       "      <th>tau4</th>\n",
       "      <th>p1</th>\n",
       "      <th>p2</th>\n",
       "      <th>p3</th>\n",
       "      <th>p4</th>\n",
       "      <th>g1</th>\n",
       "      <th>g2</th>\n",
       "      <th>g3</th>\n",
       "      <th>g4</th>\n",
       "      <th>stabf</th>\n",
       "    </tr>\n",
       "  </thead>\n",
       "  <tbody>\n",
       "    <tr>\n",
       "      <th>1</th>\n",
       "      <td>9.304097</td>\n",
       "      <td>4.902524</td>\n",
       "      <td>3.047541</td>\n",
       "      <td>1.369357</td>\n",
       "      <td>5.067812</td>\n",
       "      <td>-1.940058</td>\n",
       "      <td>-1.872742</td>\n",
       "      <td>-1.255012</td>\n",
       "      <td>0.413441</td>\n",
       "      <td>0.862414</td>\n",
       "      <td>0.562139</td>\n",
       "      <td>0.781760</td>\n",
       "      <td>stable</td>\n",
       "    </tr>\n",
       "    <tr>\n",
       "      <th>5</th>\n",
       "      <td>6.999209</td>\n",
       "      <td>9.109247</td>\n",
       "      <td>3.784066</td>\n",
       "      <td>4.267788</td>\n",
       "      <td>4.429669</td>\n",
       "      <td>-1.857139</td>\n",
       "      <td>-0.670397</td>\n",
       "      <td>-1.902133</td>\n",
       "      <td>0.261793</td>\n",
       "      <td>0.077930</td>\n",
       "      <td>0.542884</td>\n",
       "      <td>0.469931</td>\n",
       "      <td>stable</td>\n",
       "    </tr>\n",
       "    <tr>\n",
       "      <th>8</th>\n",
       "      <td>4.689852</td>\n",
       "      <td>4.007747</td>\n",
       "      <td>1.478573</td>\n",
       "      <td>3.733787</td>\n",
       "      <td>4.041300</td>\n",
       "      <td>-1.410344</td>\n",
       "      <td>-1.238204</td>\n",
       "      <td>-1.392751</td>\n",
       "      <td>0.269708</td>\n",
       "      <td>0.250364</td>\n",
       "      <td>0.164941</td>\n",
       "      <td>0.482439</td>\n",
       "      <td>stable</td>\n",
       "    </tr>\n",
       "    <tr>\n",
       "      <th>10</th>\n",
       "      <td>5.930110</td>\n",
       "      <td>6.730873</td>\n",
       "      <td>6.245138</td>\n",
       "      <td>0.533288</td>\n",
       "      <td>2.327092</td>\n",
       "      <td>-0.702501</td>\n",
       "      <td>-1.116920</td>\n",
       "      <td>-0.507671</td>\n",
       "      <td>0.239816</td>\n",
       "      <td>0.563110</td>\n",
       "      <td>0.164461</td>\n",
       "      <td>0.753701</td>\n",
       "      <td>stable</td>\n",
       "    </tr>\n",
       "    <tr>\n",
       "      <th>12</th>\n",
       "      <td>1.616787</td>\n",
       "      <td>2.939228</td>\n",
       "      <td>0.819791</td>\n",
       "      <td>4.191804</td>\n",
       "      <td>3.752282</td>\n",
       "      <td>-1.484885</td>\n",
       "      <td>-1.280581</td>\n",
       "      <td>-0.986816</td>\n",
       "      <td>0.899698</td>\n",
       "      <td>0.866546</td>\n",
       "      <td>0.303921</td>\n",
       "      <td>0.077610</td>\n",
       "      <td>stable</td>\n",
       "    </tr>\n",
       "    <tr>\n",
       "      <th>17</th>\n",
       "      <td>4.142830</td>\n",
       "      <td>2.439089</td>\n",
       "      <td>1.290456</td>\n",
       "      <td>9.456443</td>\n",
       "      <td>3.934796</td>\n",
       "      <td>-1.469299</td>\n",
       "      <td>-1.766941</td>\n",
       "      <td>-0.698556</td>\n",
       "      <td>0.800757</td>\n",
       "      <td>0.840807</td>\n",
       "      <td>0.917833</td>\n",
       "      <td>0.793982</td>\n",
       "      <td>stable</td>\n",
       "    </tr>\n",
       "    <tr>\n",
       "      <th>21</th>\n",
       "      <td>7.383177</td>\n",
       "      <td>5.253173</td>\n",
       "      <td>0.924517</td>\n",
       "      <td>0.744899</td>\n",
       "      <td>3.976105</td>\n",
       "      <td>-1.429219</td>\n",
       "      <td>-1.424951</td>\n",
       "      <td>-1.121935</td>\n",
       "      <td>0.425514</td>\n",
       "      <td>0.561166</td>\n",
       "      <td>0.139627</td>\n",
       "      <td>0.076751</td>\n",
       "      <td>stable</td>\n",
       "    </tr>\n",
       "    <tr>\n",
       "      <th>22</th>\n",
       "      <td>4.541829</td>\n",
       "      <td>1.969862</td>\n",
       "      <td>8.513193</td>\n",
       "      <td>7.562036</td>\n",
       "      <td>4.362835</td>\n",
       "      <td>-1.626414</td>\n",
       "      <td>-1.761731</td>\n",
       "      <td>-0.974690</td>\n",
       "      <td>0.409785</td>\n",
       "      <td>0.121397</td>\n",
       "      <td>0.165888</td>\n",
       "      <td>0.457982</td>\n",
       "      <td>stable</td>\n",
       "    </tr>\n",
       "    <tr>\n",
       "      <th>23</th>\n",
       "      <td>5.973186</td>\n",
       "      <td>6.043118</td>\n",
       "      <td>5.996045</td>\n",
       "      <td>1.076940</td>\n",
       "      <td>3.828218</td>\n",
       "      <td>-0.989549</td>\n",
       "      <td>-1.079026</td>\n",
       "      <td>-1.759643</td>\n",
       "      <td>0.350475</td>\n",
       "      <td>0.128154</td>\n",
       "      <td>0.548861</td>\n",
       "      <td>0.503974</td>\n",
       "      <td>stable</td>\n",
       "    </tr>\n",
       "    <tr>\n",
       "      <th>25</th>\n",
       "      <td>6.192481</td>\n",
       "      <td>2.533877</td>\n",
       "      <td>1.662380</td>\n",
       "      <td>5.163924</td>\n",
       "      <td>3.462392</td>\n",
       "      <td>-1.355954</td>\n",
       "      <td>-1.432846</td>\n",
       "      <td>-0.673593</td>\n",
       "      <td>0.168277</td>\n",
       "      <td>0.408495</td>\n",
       "      <td>0.328541</td>\n",
       "      <td>0.253586</td>\n",
       "      <td>stable</td>\n",
       "    </tr>\n",
       "  </tbody>\n",
       "</table>\n",
       "</div>"
      ],
      "text/plain": [
       "        tau1      tau2      tau3      tau4        p1        p2        p3  \\\n",
       "1   9.304097  4.902524  3.047541  1.369357  5.067812 -1.940058 -1.872742   \n",
       "5   6.999209  9.109247  3.784066  4.267788  4.429669 -1.857139 -0.670397   \n",
       "8   4.689852  4.007747  1.478573  3.733787  4.041300 -1.410344 -1.238204   \n",
       "10  5.930110  6.730873  6.245138  0.533288  2.327092 -0.702501 -1.116920   \n",
       "12  1.616787  2.939228  0.819791  4.191804  3.752282 -1.484885 -1.280581   \n",
       "17  4.142830  2.439089  1.290456  9.456443  3.934796 -1.469299 -1.766941   \n",
       "21  7.383177  5.253173  0.924517  0.744899  3.976105 -1.429219 -1.424951   \n",
       "22  4.541829  1.969862  8.513193  7.562036  4.362835 -1.626414 -1.761731   \n",
       "23  5.973186  6.043118  5.996045  1.076940  3.828218 -0.989549 -1.079026   \n",
       "25  6.192481  2.533877  1.662380  5.163924  3.462392 -1.355954 -1.432846   \n",
       "\n",
       "          p4        g1        g2        g3        g4   stabf  \n",
       "1  -1.255012  0.413441  0.862414  0.562139  0.781760  stable  \n",
       "5  -1.902133  0.261793  0.077930  0.542884  0.469931  stable  \n",
       "8  -1.392751  0.269708  0.250364  0.164941  0.482439  stable  \n",
       "10 -0.507671  0.239816  0.563110  0.164461  0.753701  stable  \n",
       "12 -0.986816  0.899698  0.866546  0.303921  0.077610  stable  \n",
       "17 -0.698556  0.800757  0.840807  0.917833  0.793982  stable  \n",
       "21 -1.121935  0.425514  0.561166  0.139627  0.076751  stable  \n",
       "22 -0.974690  0.409785  0.121397  0.165888  0.457982  stable  \n",
       "23 -1.759643  0.350475  0.128154  0.548861  0.503974  stable  \n",
       "25 -0.673593  0.168277  0.408495  0.328541  0.253586  stable  "
      ]
     },
     "execution_count": 11,
     "metadata": {},
     "output_type": "execute_result"
    }
   ],
   "source": [
    "new_df.head(10)"
   ]
  },
  {
   "cell_type": "code",
   "execution_count": 12,
   "id": "1dbebdbf",
   "metadata": {},
   "outputs": [
    {
     "data": {
      "text/plain": [
       "(7620, 13)"
      ]
     },
     "execution_count": 12,
     "metadata": {},
     "output_type": "execute_result"
    }
   ],
   "source": [
    "import sklearn.utils\n",
    "new_df = sklearn.utils.shuffle(new_df)\n",
    "new_df = new_df.reset_index(drop=True)\n",
    "new_df.shape"
   ]
  },
  {
   "cell_type": "code",
   "execution_count": 13,
   "id": "e0a4eb91",
   "metadata": {},
   "outputs": [
    {
     "data": {
      "text/html": [
       "<div>\n",
       "<style scoped>\n",
       "    .dataframe tbody tr th:only-of-type {\n",
       "        vertical-align: middle;\n",
       "    }\n",
       "\n",
       "    .dataframe tbody tr th {\n",
       "        vertical-align: top;\n",
       "    }\n",
       "\n",
       "    .dataframe thead th {\n",
       "        text-align: right;\n",
       "    }\n",
       "</style>\n",
       "<table border=\"1\" class=\"dataframe\">\n",
       "  <thead>\n",
       "    <tr style=\"text-align: right;\">\n",
       "      <th></th>\n",
       "      <th>tau1</th>\n",
       "      <th>tau2</th>\n",
       "      <th>tau3</th>\n",
       "      <th>tau4</th>\n",
       "      <th>p1</th>\n",
       "      <th>p2</th>\n",
       "      <th>p3</th>\n",
       "      <th>p4</th>\n",
       "      <th>g1</th>\n",
       "      <th>g2</th>\n",
       "      <th>g3</th>\n",
       "      <th>g4</th>\n",
       "      <th>stabf</th>\n",
       "    </tr>\n",
       "  </thead>\n",
       "  <tbody>\n",
       "    <tr>\n",
       "      <th>0</th>\n",
       "      <td>2.787814</td>\n",
       "      <td>1.812619</td>\n",
       "      <td>4.005328</td>\n",
       "      <td>7.750596</td>\n",
       "      <td>3.727624</td>\n",
       "      <td>-1.773212</td>\n",
       "      <td>-0.594733</td>\n",
       "      <td>-1.359679</td>\n",
       "      <td>0.238267</td>\n",
       "      <td>0.837112</td>\n",
       "      <td>0.622683</td>\n",
       "      <td>0.161627</td>\n",
       "      <td>stable</td>\n",
       "    </tr>\n",
       "    <tr>\n",
       "      <th>1</th>\n",
       "      <td>5.014143</td>\n",
       "      <td>9.006317</td>\n",
       "      <td>4.858167</td>\n",
       "      <td>9.802982</td>\n",
       "      <td>3.735039</td>\n",
       "      <td>-1.934391</td>\n",
       "      <td>-0.858346</td>\n",
       "      <td>-0.942302</td>\n",
       "      <td>0.229148</td>\n",
       "      <td>0.781613</td>\n",
       "      <td>0.287913</td>\n",
       "      <td>0.563237</td>\n",
       "      <td>unstable</td>\n",
       "    </tr>\n",
       "    <tr>\n",
       "      <th>2</th>\n",
       "      <td>1.907165</td>\n",
       "      <td>8.359898</td>\n",
       "      <td>1.206584</td>\n",
       "      <td>1.475072</td>\n",
       "      <td>4.154698</td>\n",
       "      <td>-0.796783</td>\n",
       "      <td>-1.369516</td>\n",
       "      <td>-1.988399</td>\n",
       "      <td>0.757193</td>\n",
       "      <td>0.518605</td>\n",
       "      <td>0.555074</td>\n",
       "      <td>0.881290</td>\n",
       "      <td>stable</td>\n",
       "    </tr>\n",
       "    <tr>\n",
       "      <th>3</th>\n",
       "      <td>6.442360</td>\n",
       "      <td>2.571029</td>\n",
       "      <td>2.462892</td>\n",
       "      <td>4.437651</td>\n",
       "      <td>4.009657</td>\n",
       "      <td>-1.459635</td>\n",
       "      <td>-1.172274</td>\n",
       "      <td>-1.377748</td>\n",
       "      <td>0.714709</td>\n",
       "      <td>0.501520</td>\n",
       "      <td>0.467977</td>\n",
       "      <td>0.815663</td>\n",
       "      <td>unstable</td>\n",
       "    </tr>\n",
       "    <tr>\n",
       "      <th>4</th>\n",
       "      <td>6.279707</td>\n",
       "      <td>2.912985</td>\n",
       "      <td>5.301995</td>\n",
       "      <td>4.128830</td>\n",
       "      <td>4.080429</td>\n",
       "      <td>-1.629826</td>\n",
       "      <td>-1.147291</td>\n",
       "      <td>-1.303312</td>\n",
       "      <td>0.549717</td>\n",
       "      <td>0.132461</td>\n",
       "      <td>0.083068</td>\n",
       "      <td>0.958383</td>\n",
       "      <td>unstable</td>\n",
       "    </tr>\n",
       "    <tr>\n",
       "      <th>5</th>\n",
       "      <td>5.663828</td>\n",
       "      <td>2.040029</td>\n",
       "      <td>8.327412</td>\n",
       "      <td>4.678640</td>\n",
       "      <td>4.075613</td>\n",
       "      <td>-1.574013</td>\n",
       "      <td>-0.970040</td>\n",
       "      <td>-1.531560</td>\n",
       "      <td>0.778289</td>\n",
       "      <td>0.307338</td>\n",
       "      <td>0.620105</td>\n",
       "      <td>0.795639</td>\n",
       "      <td>unstable</td>\n",
       "    </tr>\n",
       "    <tr>\n",
       "      <th>6</th>\n",
       "      <td>7.999178</td>\n",
       "      <td>6.224363</td>\n",
       "      <td>7.988811</td>\n",
       "      <td>9.902829</td>\n",
       "      <td>2.428894</td>\n",
       "      <td>-0.690989</td>\n",
       "      <td>-1.167045</td>\n",
       "      <td>-0.570860</td>\n",
       "      <td>0.513936</td>\n",
       "      <td>0.941156</td>\n",
       "      <td>0.836845</td>\n",
       "      <td>0.648422</td>\n",
       "      <td>unstable</td>\n",
       "    </tr>\n",
       "    <tr>\n",
       "      <th>7</th>\n",
       "      <td>6.059670</td>\n",
       "      <td>6.724599</td>\n",
       "      <td>1.519847</td>\n",
       "      <td>3.760452</td>\n",
       "      <td>2.613370</td>\n",
       "      <td>-0.743728</td>\n",
       "      <td>-0.533816</td>\n",
       "      <td>-1.335826</td>\n",
       "      <td>0.640419</td>\n",
       "      <td>0.474879</td>\n",
       "      <td>0.546616</td>\n",
       "      <td>0.346686</td>\n",
       "      <td>unstable</td>\n",
       "    </tr>\n",
       "    <tr>\n",
       "      <th>8</th>\n",
       "      <td>4.348282</td>\n",
       "      <td>3.932070</td>\n",
       "      <td>4.243334</td>\n",
       "      <td>7.213924</td>\n",
       "      <td>3.925026</td>\n",
       "      <td>-1.096750</td>\n",
       "      <td>-1.080586</td>\n",
       "      <td>-1.747690</td>\n",
       "      <td>0.124903</td>\n",
       "      <td>0.866464</td>\n",
       "      <td>0.135316</td>\n",
       "      <td>0.078401</td>\n",
       "      <td>stable</td>\n",
       "    </tr>\n",
       "    <tr>\n",
       "      <th>9</th>\n",
       "      <td>3.949349</td>\n",
       "      <td>0.628722</td>\n",
       "      <td>4.485906</td>\n",
       "      <td>1.614049</td>\n",
       "      <td>3.468935</td>\n",
       "      <td>-0.855231</td>\n",
       "      <td>-1.132484</td>\n",
       "      <td>-1.481219</td>\n",
       "      <td>0.200209</td>\n",
       "      <td>0.963204</td>\n",
       "      <td>0.844578</td>\n",
       "      <td>0.393471</td>\n",
       "      <td>stable</td>\n",
       "    </tr>\n",
       "  </tbody>\n",
       "</table>\n",
       "</div>"
      ],
      "text/plain": [
       "       tau1      tau2      tau3      tau4        p1        p2        p3  \\\n",
       "0  2.787814  1.812619  4.005328  7.750596  3.727624 -1.773212 -0.594733   \n",
       "1  5.014143  9.006317  4.858167  9.802982  3.735039 -1.934391 -0.858346   \n",
       "2  1.907165  8.359898  1.206584  1.475072  4.154698 -0.796783 -1.369516   \n",
       "3  6.442360  2.571029  2.462892  4.437651  4.009657 -1.459635 -1.172274   \n",
       "4  6.279707  2.912985  5.301995  4.128830  4.080429 -1.629826 -1.147291   \n",
       "5  5.663828  2.040029  8.327412  4.678640  4.075613 -1.574013 -0.970040   \n",
       "6  7.999178  6.224363  7.988811  9.902829  2.428894 -0.690989 -1.167045   \n",
       "7  6.059670  6.724599  1.519847  3.760452  2.613370 -0.743728 -0.533816   \n",
       "8  4.348282  3.932070  4.243334  7.213924  3.925026 -1.096750 -1.080586   \n",
       "9  3.949349  0.628722  4.485906  1.614049  3.468935 -0.855231 -1.132484   \n",
       "\n",
       "         p4        g1        g2        g3        g4     stabf  \n",
       "0 -1.359679  0.238267  0.837112  0.622683  0.161627    stable  \n",
       "1 -0.942302  0.229148  0.781613  0.287913  0.563237  unstable  \n",
       "2 -1.988399  0.757193  0.518605  0.555074  0.881290    stable  \n",
       "3 -1.377748  0.714709  0.501520  0.467977  0.815663  unstable  \n",
       "4 -1.303312  0.549717  0.132461  0.083068  0.958383  unstable  \n",
       "5 -1.531560  0.778289  0.307338  0.620105  0.795639  unstable  \n",
       "6 -0.570860  0.513936  0.941156  0.836845  0.648422  unstable  \n",
       "7 -1.335826  0.640419  0.474879  0.546616  0.346686  unstable  \n",
       "8 -1.747690  0.124903  0.866464  0.135316  0.078401    stable  \n",
       "9 -1.481219  0.200209  0.963204  0.844578  0.393471    stable  "
      ]
     },
     "execution_count": 13,
     "metadata": {},
     "output_type": "execute_result"
    }
   ],
   "source": [
    "new_df.head(10)"
   ]
  },
  {
   "cell_type": "code",
   "execution_count": 14,
   "id": "f185f697",
   "metadata": {},
   "outputs": [],
   "source": [
    "x = new_df.drop(columns = 'stabf')\n",
    "y = new_df['stabf']"
   ]
  },
  {
   "cell_type": "code",
   "execution_count": 15,
   "id": "d340356b",
   "metadata": {},
   "outputs": [
    {
     "data": {
      "text/html": [
       "<div>\n",
       "<style scoped>\n",
       "    .dataframe tbody tr th:only-of-type {\n",
       "        vertical-align: middle;\n",
       "    }\n",
       "\n",
       "    .dataframe tbody tr th {\n",
       "        vertical-align: top;\n",
       "    }\n",
       "\n",
       "    .dataframe thead th {\n",
       "        text-align: right;\n",
       "    }\n",
       "</style>\n",
       "<table border=\"1\" class=\"dataframe\">\n",
       "  <thead>\n",
       "    <tr style=\"text-align: right;\">\n",
       "      <th></th>\n",
       "      <th>tau1</th>\n",
       "      <th>tau2</th>\n",
       "      <th>tau3</th>\n",
       "      <th>tau4</th>\n",
       "      <th>p1</th>\n",
       "      <th>p2</th>\n",
       "      <th>p3</th>\n",
       "      <th>p4</th>\n",
       "      <th>g1</th>\n",
       "      <th>g2</th>\n",
       "      <th>g3</th>\n",
       "      <th>g4</th>\n",
       "    </tr>\n",
       "  </thead>\n",
       "  <tbody>\n",
       "    <tr>\n",
       "      <th>0</th>\n",
       "      <td>2.787814</td>\n",
       "      <td>1.812619</td>\n",
       "      <td>4.005328</td>\n",
       "      <td>7.750596</td>\n",
       "      <td>3.727624</td>\n",
       "      <td>-1.773212</td>\n",
       "      <td>-0.594733</td>\n",
       "      <td>-1.359679</td>\n",
       "      <td>0.238267</td>\n",
       "      <td>0.837112</td>\n",
       "      <td>0.622683</td>\n",
       "      <td>0.161627</td>\n",
       "    </tr>\n",
       "    <tr>\n",
       "      <th>1</th>\n",
       "      <td>5.014143</td>\n",
       "      <td>9.006317</td>\n",
       "      <td>4.858167</td>\n",
       "      <td>9.802982</td>\n",
       "      <td>3.735039</td>\n",
       "      <td>-1.934391</td>\n",
       "      <td>-0.858346</td>\n",
       "      <td>-0.942302</td>\n",
       "      <td>0.229148</td>\n",
       "      <td>0.781613</td>\n",
       "      <td>0.287913</td>\n",
       "      <td>0.563237</td>\n",
       "    </tr>\n",
       "    <tr>\n",
       "      <th>2</th>\n",
       "      <td>1.907165</td>\n",
       "      <td>8.359898</td>\n",
       "      <td>1.206584</td>\n",
       "      <td>1.475072</td>\n",
       "      <td>4.154698</td>\n",
       "      <td>-0.796783</td>\n",
       "      <td>-1.369516</td>\n",
       "      <td>-1.988399</td>\n",
       "      <td>0.757193</td>\n",
       "      <td>0.518605</td>\n",
       "      <td>0.555074</td>\n",
       "      <td>0.881290</td>\n",
       "    </tr>\n",
       "    <tr>\n",
       "      <th>3</th>\n",
       "      <td>6.442360</td>\n",
       "      <td>2.571029</td>\n",
       "      <td>2.462892</td>\n",
       "      <td>4.437651</td>\n",
       "      <td>4.009657</td>\n",
       "      <td>-1.459635</td>\n",
       "      <td>-1.172274</td>\n",
       "      <td>-1.377748</td>\n",
       "      <td>0.714709</td>\n",
       "      <td>0.501520</td>\n",
       "      <td>0.467977</td>\n",
       "      <td>0.815663</td>\n",
       "    </tr>\n",
       "    <tr>\n",
       "      <th>4</th>\n",
       "      <td>6.279707</td>\n",
       "      <td>2.912985</td>\n",
       "      <td>5.301995</td>\n",
       "      <td>4.128830</td>\n",
       "      <td>4.080429</td>\n",
       "      <td>-1.629826</td>\n",
       "      <td>-1.147291</td>\n",
       "      <td>-1.303312</td>\n",
       "      <td>0.549717</td>\n",
       "      <td>0.132461</td>\n",
       "      <td>0.083068</td>\n",
       "      <td>0.958383</td>\n",
       "    </tr>\n",
       "  </tbody>\n",
       "</table>\n",
       "</div>"
      ],
      "text/plain": [
       "       tau1      tau2      tau3      tau4        p1        p2        p3  \\\n",
       "0  2.787814  1.812619  4.005328  7.750596  3.727624 -1.773212 -0.594733   \n",
       "1  5.014143  9.006317  4.858167  9.802982  3.735039 -1.934391 -0.858346   \n",
       "2  1.907165  8.359898  1.206584  1.475072  4.154698 -0.796783 -1.369516   \n",
       "3  6.442360  2.571029  2.462892  4.437651  4.009657 -1.459635 -1.172274   \n",
       "4  6.279707  2.912985  5.301995  4.128830  4.080429 -1.629826 -1.147291   \n",
       "\n",
       "         p4        g1        g2        g3        g4  \n",
       "0 -1.359679  0.238267  0.837112  0.622683  0.161627  \n",
       "1 -0.942302  0.229148  0.781613  0.287913  0.563237  \n",
       "2 -1.988399  0.757193  0.518605  0.555074  0.881290  \n",
       "3 -1.377748  0.714709  0.501520  0.467977  0.815663  \n",
       "4 -1.303312  0.549717  0.132461  0.083068  0.958383  "
      ]
     },
     "execution_count": 15,
     "metadata": {},
     "output_type": "execute_result"
    }
   ],
   "source": [
    "x.head()"
   ]
  },
  {
   "cell_type": "code",
   "execution_count": 16,
   "id": "7cda5576",
   "metadata": {},
   "outputs": [
    {
     "data": {
      "text/plain": [
       "0      stable\n",
       "1    unstable\n",
       "2      stable\n",
       "3    unstable\n",
       "4    unstable\n",
       "Name: stabf, dtype: object"
      ]
     },
     "execution_count": 16,
     "metadata": {},
     "output_type": "execute_result"
    }
   ],
   "source": [
    "y.head()"
   ]
  },
  {
   "cell_type": "code",
   "execution_count": 17,
   "id": "769d9fd7",
   "metadata": {},
   "outputs": [],
   "source": [
    "from sklearn.model_selection import train_test_split\n",
    "x_train, x_test, y_train, y_test = train_test_split(x, y, test_size = 0.2, random_state = 1)"
   ]
  },
  {
   "cell_type": "code",
   "execution_count": 18,
   "id": "324625d8",
   "metadata": {},
   "outputs": [
    {
     "data": {
      "text/html": [
       "<div>\n",
       "<style scoped>\n",
       "    .dataframe tbody tr th:only-of-type {\n",
       "        vertical-align: middle;\n",
       "    }\n",
       "\n",
       "    .dataframe tbody tr th {\n",
       "        vertical-align: top;\n",
       "    }\n",
       "\n",
       "    .dataframe thead th {\n",
       "        text-align: right;\n",
       "    }\n",
       "</style>\n",
       "<table border=\"1\" class=\"dataframe\">\n",
       "  <thead>\n",
       "    <tr style=\"text-align: right;\">\n",
       "      <th></th>\n",
       "      <th>tau1</th>\n",
       "      <th>tau2</th>\n",
       "      <th>tau3</th>\n",
       "      <th>tau4</th>\n",
       "      <th>p1</th>\n",
       "      <th>p2</th>\n",
       "      <th>p3</th>\n",
       "      <th>p4</th>\n",
       "      <th>g1</th>\n",
       "      <th>g2</th>\n",
       "      <th>g3</th>\n",
       "      <th>g4</th>\n",
       "    </tr>\n",
       "  </thead>\n",
       "  <tbody>\n",
       "    <tr>\n",
       "      <th>1837</th>\n",
       "      <td>5.644457</td>\n",
       "      <td>1.653247</td>\n",
       "      <td>4.165404</td>\n",
       "      <td>3.752325</td>\n",
       "      <td>2.603472</td>\n",
       "      <td>-1.034794</td>\n",
       "      <td>-0.586260</td>\n",
       "      <td>-0.982419</td>\n",
       "      <td>0.777142</td>\n",
       "      <td>0.440890</td>\n",
       "      <td>0.613293</td>\n",
       "      <td>0.610562</td>\n",
       "    </tr>\n",
       "    <tr>\n",
       "      <th>3332</th>\n",
       "      <td>3.435503</td>\n",
       "      <td>2.976150</td>\n",
       "      <td>7.075598</td>\n",
       "      <td>8.449323</td>\n",
       "      <td>3.555670</td>\n",
       "      <td>-1.052660</td>\n",
       "      <td>-1.002006</td>\n",
       "      <td>-1.501004</td>\n",
       "      <td>0.621456</td>\n",
       "      <td>0.173043</td>\n",
       "      <td>0.818877</td>\n",
       "      <td>0.653748</td>\n",
       "    </tr>\n",
       "    <tr>\n",
       "      <th>4471</th>\n",
       "      <td>5.503162</td>\n",
       "      <td>5.266581</td>\n",
       "      <td>6.305910</td>\n",
       "      <td>1.645834</td>\n",
       "      <td>3.562275</td>\n",
       "      <td>-0.656930</td>\n",
       "      <td>-1.629611</td>\n",
       "      <td>-1.275734</td>\n",
       "      <td>0.264504</td>\n",
       "      <td>0.208574</td>\n",
       "      <td>0.943883</td>\n",
       "      <td>0.425731</td>\n",
       "    </tr>\n",
       "    <tr>\n",
       "      <th>4447</th>\n",
       "      <td>9.701754</td>\n",
       "      <td>4.404309</td>\n",
       "      <td>1.113011</td>\n",
       "      <td>2.122776</td>\n",
       "      <td>3.188414</td>\n",
       "      <td>-1.706465</td>\n",
       "      <td>-0.662827</td>\n",
       "      <td>-0.819122</td>\n",
       "      <td>0.845343</td>\n",
       "      <td>0.394316</td>\n",
       "      <td>0.618234</td>\n",
       "      <td>0.907249</td>\n",
       "    </tr>\n",
       "    <tr>\n",
       "      <th>5891</th>\n",
       "      <td>1.266901</td>\n",
       "      <td>6.368033</td>\n",
       "      <td>7.993178</td>\n",
       "      <td>5.867143</td>\n",
       "      <td>2.350866</td>\n",
       "      <td>-0.868271</td>\n",
       "      <td>-0.741177</td>\n",
       "      <td>-0.741418</td>\n",
       "      <td>0.253482</td>\n",
       "      <td>0.860224</td>\n",
       "      <td>0.783527</td>\n",
       "      <td>0.309358</td>\n",
       "    </tr>\n",
       "  </tbody>\n",
       "</table>\n",
       "</div>"
      ],
      "text/plain": [
       "          tau1      tau2      tau3      tau4        p1        p2        p3  \\\n",
       "1837  5.644457  1.653247  4.165404  3.752325  2.603472 -1.034794 -0.586260   \n",
       "3332  3.435503  2.976150  7.075598  8.449323  3.555670 -1.052660 -1.002006   \n",
       "4471  5.503162  5.266581  6.305910  1.645834  3.562275 -0.656930 -1.629611   \n",
       "4447  9.701754  4.404309  1.113011  2.122776  3.188414 -1.706465 -0.662827   \n",
       "5891  1.266901  6.368033  7.993178  5.867143  2.350866 -0.868271 -0.741177   \n",
       "\n",
       "            p4        g1        g2        g3        g4  \n",
       "1837 -0.982419  0.777142  0.440890  0.613293  0.610562  \n",
       "3332 -1.501004  0.621456  0.173043  0.818877  0.653748  \n",
       "4471 -1.275734  0.264504  0.208574  0.943883  0.425731  \n",
       "4447 -0.819122  0.845343  0.394316  0.618234  0.907249  \n",
       "5891 -0.741418  0.253482  0.860224  0.783527  0.309358  "
      ]
     },
     "execution_count": 18,
     "metadata": {},
     "output_type": "execute_result"
    }
   ],
   "source": [
    "x_train.head()"
   ]
  },
  {
   "cell_type": "code",
   "execution_count": 19,
   "id": "bc618d85",
   "metadata": {},
   "outputs": [
    {
     "data": {
      "text/plain": [
       "unstable    3237\n",
       "stable      2859\n",
       "Name: stabf, dtype: int64"
      ]
     },
     "execution_count": 19,
     "metadata": {},
     "output_type": "execute_result"
    }
   ],
   "source": [
    "y_train.value_counts()"
   ]
  },
  {
   "cell_type": "code",
   "execution_count": 20,
   "id": "871f1e75",
   "metadata": {},
   "outputs": [],
   "source": [
    "import imblearn\n",
    "from imblearn.over_sampling import SMOTE\n",
    "smote = SMOTE(random_state= 1 )\n",
    "x_train_balanced, y_balanced = smote.fit_resample(x_train, y_train)"
   ]
  },
  {
   "cell_type": "code",
   "execution_count": 21,
   "id": "2af5d459",
   "metadata": {},
   "outputs": [],
   "source": [
    "from sklearn.preprocessing import MinMaxScaler\n",
    "scaler = MinMaxScaler()\n",
    "normalised_train_df = scaler.fit_transform(x_train_balanced)\n",
    "normalised_train_df = pd.DataFrame(normalised_train_df, columns=x_train_balanced.columns)"
   ]
  },
  {
   "cell_type": "code",
   "execution_count": 22,
   "id": "53d67aef",
   "metadata": {},
   "outputs": [],
   "source": [
    "x_test = x_test.reset_index(drop= True )\n",
    "normalised_test_df = scaler.transform(x_test)\n",
    "normalised_test_df = pd.DataFrame(normalised_test_df, columns=x_test.columns)"
   ]
  },
  {
   "cell_type": "code",
   "execution_count": 23,
   "id": "642cb453",
   "metadata": {},
   "outputs": [
    {
     "data": {
      "text/html": [
       "<style>#sk-container-id-1 {color: black;background-color: white;}#sk-container-id-1 pre{padding: 0;}#sk-container-id-1 div.sk-toggleable {background-color: white;}#sk-container-id-1 label.sk-toggleable__label {cursor: pointer;display: block;width: 100%;margin-bottom: 0;padding: 0.3em;box-sizing: border-box;text-align: center;}#sk-container-id-1 label.sk-toggleable__label-arrow:before {content: \"▸\";float: left;margin-right: 0.25em;color: #696969;}#sk-container-id-1 label.sk-toggleable__label-arrow:hover:before {color: black;}#sk-container-id-1 div.sk-estimator:hover label.sk-toggleable__label-arrow:before {color: black;}#sk-container-id-1 div.sk-toggleable__content {max-height: 0;max-width: 0;overflow: hidden;text-align: left;background-color: #f0f8ff;}#sk-container-id-1 div.sk-toggleable__content pre {margin: 0.2em;color: black;border-radius: 0.25em;background-color: #f0f8ff;}#sk-container-id-1 input.sk-toggleable__control:checked~div.sk-toggleable__content {max-height: 200px;max-width: 100%;overflow: auto;}#sk-container-id-1 input.sk-toggleable__control:checked~label.sk-toggleable__label-arrow:before {content: \"▾\";}#sk-container-id-1 div.sk-estimator input.sk-toggleable__control:checked~label.sk-toggleable__label {background-color: #d4ebff;}#sk-container-id-1 div.sk-label input.sk-toggleable__control:checked~label.sk-toggleable__label {background-color: #d4ebff;}#sk-container-id-1 input.sk-hidden--visually {border: 0;clip: rect(1px 1px 1px 1px);clip: rect(1px, 1px, 1px, 1px);height: 1px;margin: -1px;overflow: hidden;padding: 0;position: absolute;width: 1px;}#sk-container-id-1 div.sk-estimator {font-family: monospace;background-color: #f0f8ff;border: 1px dotted black;border-radius: 0.25em;box-sizing: border-box;margin-bottom: 0.5em;}#sk-container-id-1 div.sk-estimator:hover {background-color: #d4ebff;}#sk-container-id-1 div.sk-parallel-item::after {content: \"\";width: 100%;border-bottom: 1px solid gray;flex-grow: 1;}#sk-container-id-1 div.sk-label:hover label.sk-toggleable__label {background-color: #d4ebff;}#sk-container-id-1 div.sk-serial::before {content: \"\";position: absolute;border-left: 1px solid gray;box-sizing: border-box;top: 0;bottom: 0;left: 50%;z-index: 0;}#sk-container-id-1 div.sk-serial {display: flex;flex-direction: column;align-items: center;background-color: white;padding-right: 0.2em;padding-left: 0.2em;position: relative;}#sk-container-id-1 div.sk-item {position: relative;z-index: 1;}#sk-container-id-1 div.sk-parallel {display: flex;align-items: stretch;justify-content: center;background-color: white;position: relative;}#sk-container-id-1 div.sk-item::before, #sk-container-id-1 div.sk-parallel-item::before {content: \"\";position: absolute;border-left: 1px solid gray;box-sizing: border-box;top: 0;bottom: 0;left: 50%;z-index: -1;}#sk-container-id-1 div.sk-parallel-item {display: flex;flex-direction: column;z-index: 1;position: relative;background-color: white;}#sk-container-id-1 div.sk-parallel-item:first-child::after {align-self: flex-end;width: 50%;}#sk-container-id-1 div.sk-parallel-item:last-child::after {align-self: flex-start;width: 50%;}#sk-container-id-1 div.sk-parallel-item:only-child::after {width: 0;}#sk-container-id-1 div.sk-dashed-wrapped {border: 1px dashed gray;margin: 0 0.4em 0.5em 0.4em;box-sizing: border-box;padding-bottom: 0.4em;background-color: white;}#sk-container-id-1 div.sk-label label {font-family: monospace;font-weight: bold;display: inline-block;line-height: 1.2em;}#sk-container-id-1 div.sk-label-container {text-align: center;}#sk-container-id-1 div.sk-container {/* jupyter's `normalize.less` sets `[hidden] { display: none; }` but bootstrap.min.css set `[hidden] { display: none !important; }` so we also need the `!important` here to be able to override the default hidden behavior on the sphinx rendered scikit-learn.org. See: https://github.com/scikit-learn/scikit-learn/issues/21755 */display: inline-block !important;position: relative;}#sk-container-id-1 div.sk-text-repr-fallback {display: none;}</style><div id=\"sk-container-id-1\" class=\"sk-top-container\"><div class=\"sk-text-repr-fallback\"><pre>LogisticRegression()</pre><b>In a Jupyter environment, please rerun this cell to show the HTML representation or trust the notebook. <br />On GitHub, the HTML representation is unable to render, please try loading this page with nbviewer.org.</b></div><div class=\"sk-container\" hidden><div class=\"sk-item\"><div class=\"sk-estimator sk-toggleable\"><input class=\"sk-toggleable__control sk-hidden--visually\" id=\"sk-estimator-id-1\" type=\"checkbox\" checked><label for=\"sk-estimator-id-1\" class=\"sk-toggleable__label sk-toggleable__label-arrow\">LogisticRegression</label><div class=\"sk-toggleable__content\"><pre>LogisticRegression()</pre></div></div></div></div></div>"
      ],
      "text/plain": [
       "LogisticRegression()"
      ]
     },
     "execution_count": 23,
     "metadata": {},
     "output_type": "execute_result"
    }
   ],
   "source": [
    "from sklearn.linear_model import LogisticRegression\n",
    "log_reg = LogisticRegression()\n",
    "log_reg.fit(normalised_train_df, y_balanced)\n",
    "#returns\n",
    "LogisticRegression(C= 1.0 , class_weight= None , dual= False , fit_intercept= True ,intercept_scaling= 1 , \n",
    "l1_ratio= None , max_iter= 100 , multi_class= 'auto' , n_jobs= None , penalty= 'l2' ,\n",
    "random_state= None , solver= 'lbfgs' , tol= 0.0001 , verbose= 0 ,\n",
    "warm_start= False )"
   ]
  },
  {
   "cell_type": "code",
   "execution_count": 24,
   "id": "853af2a5",
   "metadata": {},
   "outputs": [
    {
     "data": {
      "text/plain": [
       "array([0.78140409, 0.81076568, 0.79841665, 0.78763668, 0.82915777])"
      ]
     },
     "execution_count": 24,
     "metadata": {},
     "output_type": "execute_result"
    }
   ],
   "source": [
    "from sklearn.model_selection import cross_val_score\n",
    "scores = cross_val_score(log_reg, normalised_train_df, y_balanced, cv=5, scoring = 'f1_macro')\n",
    "scores"
   ]
  },
  {
   "cell_type": "code",
   "execution_count": 25,
   "id": "c6fdf49b",
   "metadata": {},
   "outputs": [],
   "source": [
    "from sklearn.metrics import f1_score\n",
    "from sklearn.model_selection import KFold\n",
    "kf = KFold(n_splits=5)\n",
    "kf.split(normalised_train_df)\n",
    "f1_scores = []\n",
    "# run for every split\n",
    "for train_index, test_index in kf.split(normalised_train_df):\n",
    "    x_train, x_test = normalised_train_df.iloc[train_index], normalised_train_df.iloc[test_index]\n",
    "    y_train, yy_test = y_balanced[train_index], y_balanced[test_index]\n",
    "    model = LogisticRegression().fit(x_train,y_train)\n",
    "# save result to list\n",
    "    f1_scores.append(f1_score(y_true=yy_test, y_pred=model.predict(x_test),pos_label='stable')*100)"
   ]
  },
  {
   "cell_type": "code",
   "execution_count": 26,
   "id": "9dcfc972",
   "metadata": {},
   "outputs": [
    {
     "data": {
      "text/plain": [
       "[76.52892561983472,\n",
       " 80.28962188254224,\n",
       " 78.99022801302932,\n",
       " 78.45659163987139,\n",
       " 84.14239482200647]"
      ]
     },
     "execution_count": 26,
     "metadata": {},
     "output_type": "execute_result"
    }
   ],
   "source": [
    "f1_scores"
   ]
  },
  {
   "cell_type": "code",
   "execution_count": 27,
   "id": "c9effcea",
   "metadata": {},
   "outputs": [],
   "source": [
    "import numpy as np\n",
    "from sklearn.model_selection import StratifiedKFold\n",
    "skf = StratifiedKFold(n_splits=5, shuffle=True, random_state=1)\n",
    "f1_scores = []\n",
    "# run for every split\n",
    "for train_index, test_index in skf.split(normalised_train_df,y_balanced):\n",
    "    x_train, x_test = np.array(normalised_train_df)[train_index], np.array(normalised_train_df)[test_index]\n",
    "    y_train, yy_test = y_balanced[train_index], y_balanced[test_index]\n",
    "    model = LogisticRegression().fit(x_train,y_train)\n",
    "# save result to list\n",
    "    f1_scores.append(f1_score(y_true=yy_test, y_pred=model.predict(x_test),pos_label='stable'))"
   ]
  },
  {
   "cell_type": "code",
   "execution_count": 28,
   "id": "ff72cf3f",
   "metadata": {},
   "outputs": [
    {
     "data": {
      "text/plain": [
       "[0.8058326937835764,\n",
       " 0.802784222737819,\n",
       " 0.8112633181126332,\n",
       " 0.7882534775888718,\n",
       " 0.7981366459627329]"
      ]
     },
     "execution_count": 28,
     "metadata": {},
     "output_type": "execute_result"
    }
   ],
   "source": [
    "f1_scores"
   ]
  },
  {
   "cell_type": "code",
   "execution_count": 29,
   "id": "ae98ba3f",
   "metadata": {},
   "outputs": [
    {
     "data": {
      "text/plain": [
       "array([[  0,   0],\n",
       "       [  0, 606]], dtype=int64)"
      ]
     },
     "execution_count": 29,
     "metadata": {},
     "output_type": "execute_result"
    }
   ],
   "source": [
    "from sklearn.metrics import recall_score, accuracy_score, precision_score, f1_score, confusion_matrix\n",
    "new_predictions = log_reg.predict(normalised_test_df)\n",
    "cnf_mat = confusion_matrix(y_true=y_test, y_pred=new_predictions, labels=['stale','unstable'])\n",
    "cnf_mat"
   ]
  },
  {
   "cell_type": "code",
   "execution_count": 30,
   "id": "4961f72b",
   "metadata": {},
   "outputs": [],
   "source": [
    "from xgboost import XGBClassifier"
   ]
  },
  {
   "cell_type": "code",
   "execution_count": 33,
   "id": "4e7c2303",
   "metadata": {},
   "outputs": [
    {
     "ename": "ValueError",
     "evalue": "Invalid classes inferred from unique values of `y`.  Expected: [0 1], got ['stable' 'unstable']",
     "output_type": "error",
     "traceback": [
      "\u001b[1;31m---------------------------------------------------------------------------\u001b[0m",
      "\u001b[1;31mValueError\u001b[0m                                Traceback (most recent call last)",
      "Input \u001b[1;32mIn [33]\u001b[0m, in \u001b[0;36m<cell line: 2>\u001b[1;34m()\u001b[0m\n\u001b[0;32m      1\u001b[0m model \u001b[38;5;241m=\u001b[39m XGBClassifier()\n\u001b[1;32m----> 2\u001b[0m \u001b[43mmodel\u001b[49m\u001b[38;5;241;43m.\u001b[39;49m\u001b[43mfit\u001b[49m\u001b[43m(\u001b[49m\u001b[43mx_train\u001b[49m\u001b[43m,\u001b[49m\u001b[43m \u001b[49m\u001b[43my_train\u001b[49m\u001b[43m)\u001b[49m\n",
      "File \u001b[1;32m~\\AppData\\Local\\Programs\\Python\\Python310\\lib\\site-packages\\xgboost\\core.py:575\u001b[0m, in \u001b[0;36m_deprecate_positional_args.<locals>.inner_f\u001b[1;34m(*args, **kwargs)\u001b[0m\n\u001b[0;32m    573\u001b[0m \u001b[38;5;28;01mfor\u001b[39;00m k, arg \u001b[38;5;129;01min\u001b[39;00m \u001b[38;5;28mzip\u001b[39m(sig\u001b[38;5;241m.\u001b[39mparameters, args):\n\u001b[0;32m    574\u001b[0m     kwargs[k] \u001b[38;5;241m=\u001b[39m arg\n\u001b[1;32m--> 575\u001b[0m \u001b[38;5;28;01mreturn\u001b[39;00m f(\u001b[38;5;241m*\u001b[39m\u001b[38;5;241m*\u001b[39mkwargs)\n",
      "File \u001b[1;32m~\\AppData\\Local\\Programs\\Python\\Python310\\lib\\site-packages\\xgboost\\sklearn.py:1357\u001b[0m, in \u001b[0;36mXGBClassifier.fit\u001b[1;34m(self, X, y, sample_weight, base_margin, eval_set, eval_metric, early_stopping_rounds, verbose, xgb_model, sample_weight_eval_set, base_margin_eval_set, feature_weights, callbacks)\u001b[0m\n\u001b[0;32m   1352\u001b[0m     expected_classes \u001b[38;5;241m=\u001b[39m np\u001b[38;5;241m.\u001b[39marange(\u001b[38;5;28mself\u001b[39m\u001b[38;5;241m.\u001b[39mn_classes_)\n\u001b[0;32m   1353\u001b[0m \u001b[38;5;28;01mif\u001b[39;00m (\n\u001b[0;32m   1354\u001b[0m     \u001b[38;5;28mself\u001b[39m\u001b[38;5;241m.\u001b[39mclasses_\u001b[38;5;241m.\u001b[39mshape \u001b[38;5;241m!=\u001b[39m expected_classes\u001b[38;5;241m.\u001b[39mshape\n\u001b[0;32m   1355\u001b[0m     \u001b[38;5;129;01mor\u001b[39;00m \u001b[38;5;129;01mnot\u001b[39;00m (\u001b[38;5;28mself\u001b[39m\u001b[38;5;241m.\u001b[39mclasses_ \u001b[38;5;241m==\u001b[39m expected_classes)\u001b[38;5;241m.\u001b[39mall()\n\u001b[0;32m   1356\u001b[0m ):\n\u001b[1;32m-> 1357\u001b[0m     \u001b[38;5;28;01mraise\u001b[39;00m \u001b[38;5;167;01mValueError\u001b[39;00m(\n\u001b[0;32m   1358\u001b[0m         \u001b[38;5;124mf\u001b[39m\u001b[38;5;124m\"\u001b[39m\u001b[38;5;124mInvalid classes inferred from unique values of `y`.  \u001b[39m\u001b[38;5;124m\"\u001b[39m\n\u001b[0;32m   1359\u001b[0m         \u001b[38;5;124mf\u001b[39m\u001b[38;5;124m\"\u001b[39m\u001b[38;5;124mExpected: \u001b[39m\u001b[38;5;132;01m{\u001b[39;00mexpected_classes\u001b[38;5;132;01m}\u001b[39;00m\u001b[38;5;124m, got \u001b[39m\u001b[38;5;132;01m{\u001b[39;00m\u001b[38;5;28mself\u001b[39m\u001b[38;5;241m.\u001b[39mclasses_\u001b[38;5;132;01m}\u001b[39;00m\u001b[38;5;124m\"\u001b[39m\n\u001b[0;32m   1360\u001b[0m     )\n\u001b[0;32m   1362\u001b[0m params \u001b[38;5;241m=\u001b[39m \u001b[38;5;28mself\u001b[39m\u001b[38;5;241m.\u001b[39mget_xgb_params()\n\u001b[0;32m   1364\u001b[0m \u001b[38;5;28;01mif\u001b[39;00m callable(\u001b[38;5;28mself\u001b[39m\u001b[38;5;241m.\u001b[39mobjective):\n",
      "\u001b[1;31mValueError\u001b[0m: Invalid classes inferred from unique values of `y`.  Expected: [0 1], got ['stable' 'unstable']"
     ]
    }
   ],
   "source": [
    "model = XGBClassifier()\n",
    "model.fit(x_train, y_train)"
   ]
  },
  {
   "cell_type": "code",
   "execution_count": 32,
   "id": "9f0047a6",
   "metadata": {},
   "outputs": [
    {
     "ename": "NotFittedError",
     "evalue": "need to call fit or load_model beforehand",
     "output_type": "error",
     "traceback": [
      "\u001b[1;31m---------------------------------------------------------------------------\u001b[0m",
      "\u001b[1;31mNotFittedError\u001b[0m                            Traceback (most recent call last)",
      "Input \u001b[1;32mIn [32]\u001b[0m, in \u001b[0;36m<cell line: 1>\u001b[1;34m()\u001b[0m\n\u001b[1;32m----> 1\u001b[0m y_pred \u001b[38;5;241m=\u001b[39m \u001b[43mmodel\u001b[49m\u001b[38;5;241;43m.\u001b[39;49m\u001b[43mpredict\u001b[49m\u001b[43m(\u001b[49m\u001b[43mx_test\u001b[49m\u001b[43m)\u001b[49m\n\u001b[0;32m      2\u001b[0m predictions \u001b[38;5;241m=\u001b[39m [\u001b[38;5;28mround\u001b[39m(value) \u001b[38;5;28;01mfor\u001b[39;00m value \u001b[38;5;129;01min\u001b[39;00m y_pred]\n",
      "File \u001b[1;32m~\\AppData\\Local\\Programs\\Python\\Python310\\lib\\site-packages\\xgboost\\sklearn.py:1434\u001b[0m, in \u001b[0;36mXGBClassifier.predict\u001b[1;34m(self, X, output_margin, ntree_limit, validate_features, base_margin, iteration_range)\u001b[0m\n\u001b[0;32m   1425\u001b[0m \u001b[38;5;28;01mdef\u001b[39;00m \u001b[38;5;21mpredict\u001b[39m(\n\u001b[0;32m   1426\u001b[0m     \u001b[38;5;28mself\u001b[39m,\n\u001b[0;32m   1427\u001b[0m     X: ArrayLike,\n\u001b[1;32m   (...)\u001b[0m\n\u001b[0;32m   1432\u001b[0m     iteration_range: Optional[Tuple[\u001b[38;5;28mint\u001b[39m, \u001b[38;5;28mint\u001b[39m]] \u001b[38;5;241m=\u001b[39m \u001b[38;5;28;01mNone\u001b[39;00m,\n\u001b[0;32m   1433\u001b[0m ) \u001b[38;5;241m-\u001b[39m\u001b[38;5;241m>\u001b[39m np\u001b[38;5;241m.\u001b[39mndarray:\n\u001b[1;32m-> 1434\u001b[0m     class_probs \u001b[38;5;241m=\u001b[39m \u001b[38;5;28;43msuper\u001b[39;49m\u001b[43m(\u001b[49m\u001b[43m)\u001b[49m\u001b[38;5;241;43m.\u001b[39;49m\u001b[43mpredict\u001b[49m\u001b[43m(\u001b[49m\n\u001b[0;32m   1435\u001b[0m \u001b[43m        \u001b[49m\u001b[43mX\u001b[49m\u001b[38;5;241;43m=\u001b[39;49m\u001b[43mX\u001b[49m\u001b[43m,\u001b[49m\n\u001b[0;32m   1436\u001b[0m \u001b[43m        \u001b[49m\u001b[43moutput_margin\u001b[49m\u001b[38;5;241;43m=\u001b[39;49m\u001b[43moutput_margin\u001b[49m\u001b[43m,\u001b[49m\n\u001b[0;32m   1437\u001b[0m \u001b[43m        \u001b[49m\u001b[43mntree_limit\u001b[49m\u001b[38;5;241;43m=\u001b[39;49m\u001b[43mntree_limit\u001b[49m\u001b[43m,\u001b[49m\n\u001b[0;32m   1438\u001b[0m \u001b[43m        \u001b[49m\u001b[43mvalidate_features\u001b[49m\u001b[38;5;241;43m=\u001b[39;49m\u001b[43mvalidate_features\u001b[49m\u001b[43m,\u001b[49m\n\u001b[0;32m   1439\u001b[0m \u001b[43m        \u001b[49m\u001b[43mbase_margin\u001b[49m\u001b[38;5;241;43m=\u001b[39;49m\u001b[43mbase_margin\u001b[49m\u001b[43m,\u001b[49m\n\u001b[0;32m   1440\u001b[0m \u001b[43m        \u001b[49m\u001b[43miteration_range\u001b[49m\u001b[38;5;241;43m=\u001b[39;49m\u001b[43miteration_range\u001b[49m\u001b[43m,\u001b[49m\n\u001b[0;32m   1441\u001b[0m \u001b[43m    \u001b[49m\u001b[43m)\u001b[49m\n\u001b[0;32m   1442\u001b[0m     \u001b[38;5;28;01mif\u001b[39;00m output_margin:\n\u001b[0;32m   1443\u001b[0m         \u001b[38;5;66;03m# If output_margin is active, simply return the scores\u001b[39;00m\n\u001b[0;32m   1444\u001b[0m         \u001b[38;5;28;01mreturn\u001b[39;00m class_probs\n",
      "File \u001b[1;32m~\\AppData\\Local\\Programs\\Python\\Python310\\lib\\site-packages\\xgboost\\sklearn.py:1044\u001b[0m, in \u001b[0;36mXGBModel.predict\u001b[1;34m(self, X, output_margin, ntree_limit, validate_features, base_margin, iteration_range)\u001b[0m\n\u001b[0;32m   1001\u001b[0m \u001b[38;5;28;01mdef\u001b[39;00m \u001b[38;5;21mpredict\u001b[39m(\n\u001b[0;32m   1002\u001b[0m     \u001b[38;5;28mself\u001b[39m,\n\u001b[0;32m   1003\u001b[0m     X: ArrayLike,\n\u001b[1;32m   (...)\u001b[0m\n\u001b[0;32m   1008\u001b[0m     iteration_range: Optional[Tuple[\u001b[38;5;28mint\u001b[39m, \u001b[38;5;28mint\u001b[39m]] \u001b[38;5;241m=\u001b[39m \u001b[38;5;28;01mNone\u001b[39;00m,\n\u001b[0;32m   1009\u001b[0m ) \u001b[38;5;241m-\u001b[39m\u001b[38;5;241m>\u001b[39m np\u001b[38;5;241m.\u001b[39mndarray:\n\u001b[0;32m   1010\u001b[0m     \u001b[38;5;124;03m\"\"\"Predict with `X`.  If the model is trained with early stopping, then `best_iteration`\u001b[39;00m\n\u001b[0;32m   1011\u001b[0m \u001b[38;5;124;03m    is used automatically.  For tree models, when data is on GPU, like cupy array or\u001b[39;00m\n\u001b[0;32m   1012\u001b[0m \u001b[38;5;124;03m    cuDF dataframe and `predictor` is not specified, the prediction is run on GPU\u001b[39;00m\n\u001b[1;32m   (...)\u001b[0m\n\u001b[0;32m   1041\u001b[0m \n\u001b[0;32m   1042\u001b[0m \u001b[38;5;124;03m    \"\"\"\u001b[39;00m\n\u001b[0;32m   1043\u001b[0m     iteration_range \u001b[38;5;241m=\u001b[39m _convert_ntree_limit(\n\u001b[1;32m-> 1044\u001b[0m         \u001b[38;5;28;43mself\u001b[39;49m\u001b[38;5;241;43m.\u001b[39;49m\u001b[43mget_booster\u001b[49m\u001b[43m(\u001b[49m\u001b[43m)\u001b[49m, ntree_limit, iteration_range\n\u001b[0;32m   1045\u001b[0m     )\n\u001b[0;32m   1046\u001b[0m     iteration_range \u001b[38;5;241m=\u001b[39m \u001b[38;5;28mself\u001b[39m\u001b[38;5;241m.\u001b[39m_get_iteration_range(iteration_range)\n\u001b[0;32m   1047\u001b[0m     \u001b[38;5;28;01mif\u001b[39;00m \u001b[38;5;28mself\u001b[39m\u001b[38;5;241m.\u001b[39m_can_use_inplace_predict():\n",
      "File \u001b[1;32m~\\AppData\\Local\\Programs\\Python\\Python310\\lib\\site-packages\\xgboost\\sklearn.py:590\u001b[0m, in \u001b[0;36mXGBModel.get_booster\u001b[1;34m(self)\u001b[0m\n\u001b[0;32m    588\u001b[0m \u001b[38;5;28;01mif\u001b[39;00m \u001b[38;5;129;01mnot\u001b[39;00m \u001b[38;5;28mself\u001b[39m\u001b[38;5;241m.\u001b[39m__sklearn_is_fitted__():\n\u001b[0;32m    589\u001b[0m     \u001b[38;5;28;01mfrom\u001b[39;00m \u001b[38;5;21;01msklearn\u001b[39;00m\u001b[38;5;21;01m.\u001b[39;00m\u001b[38;5;21;01mexceptions\u001b[39;00m \u001b[38;5;28;01mimport\u001b[39;00m NotFittedError\n\u001b[1;32m--> 590\u001b[0m     \u001b[38;5;28;01mraise\u001b[39;00m NotFittedError(\u001b[38;5;124m'\u001b[39m\u001b[38;5;124mneed to call fit or load_model beforehand\u001b[39m\u001b[38;5;124m'\u001b[39m)\n\u001b[0;32m    591\u001b[0m \u001b[38;5;28;01mreturn\u001b[39;00m \u001b[38;5;28mself\u001b[39m\u001b[38;5;241m.\u001b[39m_Booster\n",
      "\u001b[1;31mNotFittedError\u001b[0m: need to call fit or load_model beforehand"
     ]
    }
   ],
   "source": [
    "y_pred = model.predict(x_test)\n",
    "predictions = [round(value) for value in y_pred]"
   ]
  },
  {
   "cell_type": "code",
   "execution_count": null,
   "id": "4a870d86",
   "metadata": {},
   "outputs": [],
   "source": []
  }
 ],
 "metadata": {
  "kernelspec": {
   "display_name": "Python 3 (ipykernel)",
   "language": "python",
   "name": "python3"
  },
  "language_info": {
   "codemirror_mode": {
    "name": "ipython",
    "version": 3
   },
   "file_extension": ".py",
   "mimetype": "text/x-python",
   "name": "python",
   "nbconvert_exporter": "python",
   "pygments_lexer": "ipython3",
   "version": "3.10.5"
  }
 },
 "nbformat": 4,
 "nbformat_minor": 5
}
